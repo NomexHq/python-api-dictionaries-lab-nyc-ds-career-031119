{
 "cells": [
  {
   "cell_type": "markdown",
   "metadata": {},
   "source": [
    "# API Exercises"
   ]
  },
  {
   "cell_type": "markdown",
   "metadata": {},
   "source": [
    "Here are two exercises that involve working with APIs and dictionaries.\n",
    "\n",
    "One is using the Open Brewery API found at https://www.openbrewerydb.org/, and the other is using the API for UK Police Data, found at https://data.police.uk/docs/.\n",
    "\n",
    "You can complete them in either order!\n",
    "\n",
    "Remember that you can create new cells with esc + a or b"
   ]
  },
  {
   "cell_type": "markdown",
   "metadata": {},
   "source": [
    "## Breweries"
   ]
  },
  {
   "cell_type": "markdown",
   "metadata": {},
   "source": [
    "### Q1: Load the first page of results with 50 results per page"
   ]
  },
  {
   "cell_type": "code",
   "execution_count": 65,
   "metadata": {},
   "outputs": [
    {
     "data": {
      "text/plain": [
       "[{'id': 2,\n",
       "  'name': 'Avondale Brewing Co',\n",
       "  'brewery_type': 'micro',\n",
       "  'street': '201 41st St S',\n",
       "  'city': 'Birmingham',\n",
       "  'state': 'Alabama',\n",
       "  'postal_code': '35222-1932',\n",
       "  'country': 'United States',\n",
       "  'longitude': '-86.774322',\n",
       "  'latitude': '33.524521',\n",
       "  'phone': '2057775456',\n",
       "  'website_url': 'http://www.avondalebrewing.com',\n",
       "  'updated_at': '2018-08-23T23:19:57.825Z',\n",
       "  'tag_list': []},\n",
       " {'id': 4,\n",
       "  'name': 'Band of Brothers Brewing Company',\n",
       "  'brewery_type': 'micro',\n",
       "  'street': '1605 23rd Ave',\n",
       "  'city': 'Tuscaloosa',\n",
       "  'state': 'Alabama',\n",
       "  'postal_code': '35401-4653',\n",
       "  'country': 'United States',\n",
       "  'longitude': '-87.5621551272424',\n",
       "  'latitude': '33.1984907123707',\n",
       "  'phone': '2052665137',\n",
       "  'website_url': 'http://www.bandofbrosbrewing.com',\n",
       "  'updated_at': '2018-08-23T23:19:59.462Z',\n",
       "  'tag_list': []},\n",
       " {'id': 44,\n",
       "  'name': 'Trim Tab Brewing',\n",
       "  'brewery_type': 'micro',\n",
       "  'street': '2721 5th Ave S',\n",
       "  'city': 'Birmingham',\n",
       "  'state': 'Alabama',\n",
       "  'postal_code': '35233-3401',\n",
       "  'country': 'United States',\n",
       "  'longitude': '-86.7914000624146',\n",
       "  'latitude': '33.5128492349817',\n",
       "  'phone': '2057030536',\n",
       "  'website_url': 'http://www.trimtabbrewing.com',\n",
       "  'updated_at': '2018-08-23T23:20:31.423Z',\n",
       "  'tag_list': []}]"
      ]
     },
     "execution_count": 65,
     "metadata": {},
     "output_type": "execute_result"
    }
   ],
   "source": [
    "import json\n",
    "import requests\n",
    "url = 'https://api.openbrewerydb.org/breweries?page=1&per_page=50'\n",
    "r = requests.get(url)\n",
    "\n",
    "#print(r)\n",
    "#print(type(r.text))\n",
    "#print(r.text)\n",
    "\n",
    "json_data = r.json()\n",
    "json_data[:3]"
   ]
  },
  {
   "cell_type": "markdown",
   "metadata": {},
   "source": [
    "### Q2: This is only the first 50 results.  Get the next 50 and put them together."
   ]
  },
  {
   "cell_type": "code",
   "execution_count": 67,
   "metadata": {},
   "outputs": [
    {
     "data": {
      "text/plain": [
       "[{'id': 667,\n",
       "  'name': 'Hermitage Brewing Company',\n",
       "  'brewery_type': 'regional',\n",
       "  'street': '1627 S 7th St',\n",
       "  'city': 'San Jose',\n",
       "  'state': 'California',\n",
       "  'postal_code': '95112-5932',\n",
       "  'country': 'United States',\n",
       "  'longitude': '-121.866525688348',\n",
       "  'latitude': '37.3153140881948',\n",
       "  'phone': '4082910966',\n",
       "  'website_url': 'http://www.hermitagebrewing.com',\n",
       "  'updated_at': '2018-08-23T23:29:21.773Z',\n",
       "  'tag_list': []},\n",
       " {'id': 669,\n",
       "  'name': 'High Water Brewing',\n",
       "  'brewery_type': 'proprietor',\n",
       "  'street': '',\n",
       "  'city': 'Stockton',\n",
       "  'state': 'California',\n",
       "  'postal_code': '95204-2943',\n",
       "  'country': 'United States',\n",
       "  'longitude': '-121.2907796',\n",
       "  'latitude': '37.9577016',\n",
       "  'phone': '5304409098',\n",
       "  'website_url': 'http://www.highwaterbrewing.com',\n",
       "  'updated_at': '2018-08-23T23:29:23.046Z',\n",
       "  'tag_list': []},\n",
       " {'id': 682,\n",
       "  'name': 'Hop Secret Brewing Co',\n",
       "  'brewery_type': 'micro',\n",
       "  'street': '162 W Pomona Ave',\n",
       "  'city': 'Monrovia',\n",
       "  'state': 'California',\n",
       "  'postal_code': '91016-4558',\n",
       "  'country': 'United States',\n",
       "  'longitude': '-118.001973040816',\n",
       "  'latitude': '34.134155',\n",
       "  'phone': '',\n",
       "  'website_url': 'http://www.hopsecretbrewing.com',\n",
       "  'updated_at': '2018-08-23T23:29:32.990Z',\n",
       "  'tag_list': []}]"
      ]
     },
     "execution_count": 67,
     "metadata": {},
     "output_type": "execute_result"
    }
   ],
   "source": [
    "url = 'https://api.openbrewerydb.org/breweries?page=2&per_page=50'\n",
    "r = requests.get(url)\n",
    "\n",
    "json_data2 = r.json()\n",
    "json_data2[:3]"
   ]
  },
  {
   "cell_type": "code",
   "execution_count": 69,
   "metadata": {},
   "outputs": [
    {
     "data": {
      "text/plain": [
       "100"
      ]
     },
     "execution_count": 69,
     "metadata": {},
     "output_type": "execute_result"
    }
   ],
   "source": [
    "# putting the two together\n",
    "\n",
    "full_list = json_data + json_data2\n",
    "len(full_list)"
   ]
  },
  {
   "cell_type": "markdown",
   "metadata": {},
   "source": [
    "### Q3: How many of these 100 breweries in are in Alaska?"
   ]
  },
  {
   "cell_type": "code",
   "execution_count": 71,
   "metadata": {},
   "outputs": [
    {
     "name": "stdout",
     "output_type": "stream",
     "text": [
      "3\n"
     ]
    }
   ],
   "source": [
    "alaska = 0\n",
    "\n",
    "for i in full_list:\n",
    "    if i['state'] == 'Alaska':\n",
    "        alaska += 1\n",
    "print(alaska)        \n"
   ]
  },
  {
   "cell_type": "markdown",
   "metadata": {},
   "source": [
    "### Q4: Of these 100 breweries, what are the different unique brewery types?"
   ]
  },
  {
   "cell_type": "code",
   "execution_count": 73,
   "metadata": {},
   "outputs": [
    {
     "data": {
      "text/plain": [
       "{'brewpub', 'contract', 'micro', 'planning', 'proprietor', 'regional'}"
      ]
     },
     "execution_count": 73,
     "metadata": {},
     "output_type": "execute_result"
    }
   ],
   "source": [
    "set([i['brewery_type'] for i in full_list])"
   ]
  },
  {
   "cell_type": "markdown",
   "metadata": {},
   "source": [
    "### Q5: What is the cloest brewery to \"Devil's Potion Brewing Company LLC\" ?\n",
    "* Hint 1: Use Euclidian distance w/ longitude and latitude (assume longitude and latitude are a Carteisan coordinate system)\n",
    "* Hint 2: You'll have to ignore the entries with \"none\" for latitude or longitude"
   ]
  },
  {
   "cell_type": "code",
   "execution_count": null,
   "metadata": {},
   "outputs": [],
   "source": [
    "\n"
   ]
  },
  {
   "cell_type": "markdown",
   "metadata": {},
   "source": [
    "### Q6: Write a function to find the closest brewery to any other given brewery"
   ]
  },
  {
   "cell_type": "code",
   "execution_count": null,
   "metadata": {},
   "outputs": [],
   "source": [
    "\n"
   ]
  },
  {
   "cell_type": "markdown",
   "metadata": {},
   "source": [
    "### Q7: How would you get the first 10 pages from this API and put them all together using a for loop?"
   ]
  },
  {
   "cell_type": "code",
   "execution_count": null,
   "metadata": {},
   "outputs": [],
   "source": [
    "\n"
   ]
  },
  {
   "cell_type": "markdown",
   "metadata": {},
   "source": [
    "# Crime in the UK"
   ]
  },
  {
   "cell_type": "markdown",
   "metadata": {},
   "source": [
    "### We will be analyzing different crimes reported in the UK as provided by https://data.police.uk/docs/"
   ]
  },
  {
   "cell_type": "markdown",
   "metadata": {},
   "source": [
    "# Exploratory analysis\n",
    "##### 1. How many total crimes were there at latitude : 52.63902 and -1.131321 on November of 2017.\n",
    "Use the street level crimes data, the documentation for the API can be found at https://data.police.uk/docs/method/crime-street/"
   ]
  },
  {
   "cell_type": "code",
   "execution_count": 78,
   "metadata": {},
   "outputs": [
    {
     "data": {
      "text/plain": [
       "1334"
      ]
     },
     "execution_count": 78,
     "metadata": {},
     "output_type": "execute_result"
    }
   ],
   "source": [
    "url = 'https://data.police.uk/api/crimes-street/all-crime?lat=52.63902&lng=-1.131321&date=2017-11'\n",
    "r = requests.get(url)\n",
    "\n",
    "json_data = r.json()\n",
    "#json_data[:3]\n",
    "\n",
    "len(json_data)"
   ]
  },
  {
   "cell_type": "markdown",
   "metadata": {},
   "source": [
    "##### 2. We've queried the API once, but it could get annoying to retype the url over and over again, create a function `make_api_request` that enables you to query the API.\n",
    "\n",
    "\n",
    " The parameters for the function should be:\n",
    "* lat (float) : latitude\n",
    "* lng (float) : longitude\n",
    "* date (string): Date in the format YYYY-MM\n",
    "    * default value = `None`\n",
    "    \n",
    "And it should return a json object of \n",
    "\n",
    "for more information on default values check out http://blog.thedigitalcatonline.com/blog/2015/02/11/default-arguments-in-python/"
   ]
  },
  {
   "cell_type": "code",
   "execution_count": 83,
   "metadata": {},
   "outputs": [],
   "source": [
    "def make_api_request(lat,lng,date=None):\n",
    "    if date:\n",
    "        url = 'https://data.police.uk/api/crimes-street/all-crime?lat=' + str(lat) + '&lng=' + str(lng) + '&date=' + date \n",
    "    else :\n",
    "        url = 'https://data.police.uk/api/crimes-street/all-crime?lat=' + str(lat) + '&lng=' + str(lng)\n",
    "    r = requests.get(url)\n",
    "    return r.json()\n"
   ]
  },
  {
   "cell_type": "code",
   "execution_count": 84,
   "metadata": {},
   "outputs": [
    {
     "data": {
      "text/plain": [
       "[{'category': 'anti-social-behaviour',\n",
       "  'location_type': 'Force',\n",
       "  'location': {'latitude': '52.636721',\n",
       "   'street': {'id': 883359, 'name': 'On or near Haymarket'},\n",
       "   'longitude': '-1.132898'},\n",
       "  'context': '',\n",
       "  'outcome_status': None,\n",
       "  'persistent_id': '',\n",
       "  'id': 61226626,\n",
       "  'location_subtype': '',\n",
       "  'month': '2017-11'},\n",
       " {'category': 'anti-social-behaviour',\n",
       "  'location_type': 'Force',\n",
       "  'location': {'latitude': '52.632993',\n",
       "   'street': {'id': 883396, 'name': 'On or near Nightclub'},\n",
       "   'longitude': '-1.129633'},\n",
       "  'context': '',\n",
       "  'outcome_status': None,\n",
       "  'persistent_id': '',\n",
       "  'id': 61226631,\n",
       "  'location_subtype': '',\n",
       "  'month': '2017-11'},\n",
       " {'category': 'anti-social-behaviour',\n",
       "  'location_type': 'Force',\n",
       "  'location': {'latitude': '52.636110',\n",
       "   'street': {'id': 883290, 'name': 'On or near Humberstone Gate'},\n",
       "   'longitude': '-1.131802'},\n",
       "  'context': '',\n",
       "  'outcome_status': None,\n",
       "  'persistent_id': '',\n",
       "  'id': 61225055,\n",
       "  'location_subtype': '',\n",
       "  'month': '2017-11'}]"
      ]
     },
     "execution_count": 84,
     "metadata": {},
     "output_type": "execute_result"
    }
   ],
   "source": [
    "crimes = make_api_request(52.63902,-1.131321,'2017-11')\n",
    "crimes[:3]"
   ]
  },
  {
   "cell_type": "markdown",
   "metadata": {},
   "source": [
    "##### 3. Write a function `categories_of_crime` that will determine the count of each type of crime for a given latitude and longitude. This is labelled as 'category' in the records. Your function should call the `make_api_request` function you created.\n",
    "\n",
    "The parameters for the function should be:\n",
    "\n",
    "* lat (float) : latitude\n",
    "* lng (float) : longitude\n",
    "* date (str) default = None\n",
    "\n",
    "The function should return:\n",
    "* a dictionary with the count of each type of crime\n",
    "\n",
    "\n",
    "\n",
    "Once you've created the function, try it with these locations\n",
    "* lat, lng of 51.5017861,-0.1432319   (Buckingham Palace)\n",
    "* lat, lng of 53.480161, -2.245163     (Manchester)"
   ]
  },
  {
   "cell_type": "code",
   "execution_count": 88,
   "metadata": {},
   "outputs": [
    {
     "data": {
      "text/plain": [
       "{'anti-social-behaviour': 600,\n",
       " 'bicycle-theft': 44,\n",
       " 'burglary': 142,\n",
       " 'criminal-damage-arson': 78,\n",
       " 'drugs': 104,\n",
       " 'other-theft': 1203,\n",
       " 'possession-of-weapons': 14,\n",
       " 'public-order': 145,\n",
       " 'robbery': 177,\n",
       " 'shoplifting': 276,\n",
       " 'theft-from-the-person': 849,\n",
       " 'vehicle-crime': 215,\n",
       " 'violent-crime': 451,\n",
       " 'other-crime': 24}"
      ]
     },
     "execution_count": 88,
     "metadata": {},
     "output_type": "execute_result"
    }
   ],
   "source": [
    "def categories_of_crime(lat,lng,date=None):\n",
    "    crimes = make_api_request(lat,lng,date)\n",
    "    category_dict = {}\n",
    "    for crime in crimes:\n",
    "        if crime['category'] in category_dict:\n",
    "            category_dict[crime['category']] +=1\n",
    "        else:\n",
    "            category_dict[crime['category']] = 1\n",
    "    return category_dict\n",
    "categories_of_crime(51.5017861,-0.1432319)"
   ]
  },
  {
   "cell_type": "markdown",
   "metadata": {},
   "source": [
    "**Bonus**: \n",
    "* Write a function that determines the difference between Buckingham Palace and Manchester in terms of the number of crimes in each category.\n",
    "    * In which category is there the largest absolute difference between the category of crime?\n",
    "* Create a histogram depiction of the categories of crime"
   ]
  },
  {
   "cell_type": "code",
   "execution_count": null,
   "metadata": {},
   "outputs": [],
   "source": [
    "\n"
   ]
  },
  {
   "cell_type": "markdown",
   "metadata": {},
   "source": [
    "##### 4. Create a function `find_outcome_statuses` that will determine outcome statuses for a given latitude and longitude and date (optional)?\n",
    "Investigate the data to determine where the outcome statuses are located.\n",
    "\n",
    "**NOTE**: You'll notice that some of these crimes do not have crime outcomes. Make these into the category of \"Not Resolved.\"\n",
    "\n",
    "**NOTE 2**: These might take a long time to execute if you do not specify a month\n",
    "\n",
    "**Bonus**: What is the ratio of crimes investigated to those not investigated? Is it higher near London or Manchester?"
   ]
  },
  {
   "cell_type": "code",
   "execution_count": null,
   "metadata": {},
   "outputs": [],
   "source": [
    "\n"
   ]
  },
  {
   "cell_type": "markdown",
   "metadata": {},
   "source": [
    "##### 5. Write a function `month_highest_crimes` that will return the month that had the highest number of crimes for a latitude, longitude and a year.\n",
    "\n",
    "Inputs\n",
    "* lat (float) : latitude\n",
    "* lng (float) : longitude\n",
    "* year (str) : in the format YYYY\n",
    "\n",
    "Output\n",
    "* month with highest crime (int)\n",
    "\n",
    "**Bonus** Make a graph of how the number of crimes changed over time for a year. This will likely require a new function. Is seasonality a factor? Do the type of crimes change over time?"
   ]
  },
  {
   "cell_type": "code",
   "execution_count": null,
   "metadata": {},
   "outputs": [],
   "source": [
    "\n"
   ]
  },
  {
   "cell_type": "markdown",
   "metadata": {},
   "source": [
    "### Bonus Open Ended Questions\n",
    "\n",
    "1. Take a look at the https://data.police.uk/docs/method/stops-street/ API. Is there a correlation between gender and being stopped and searched? How about race and being stopped and searched?"
   ]
  },
  {
   "cell_type": "code",
   "execution_count": null,
   "metadata": {},
   "outputs": [],
   "source": [
    "\n"
   ]
  }
 ],
 "metadata": {
  "kernelspec": {
   "display_name": "Python 3",
   "language": "python",
   "name": "python3"
  },
  "language_info": {
   "codemirror_mode": {
    "name": "ipython",
    "version": 3
   },
   "file_extension": ".py",
   "mimetype": "text/x-python",
   "name": "python",
   "nbconvert_exporter": "python",
   "pygments_lexer": "ipython3",
   "version": "3.6.6"
  }
 },
 "nbformat": 4,
 "nbformat_minor": 2
}
